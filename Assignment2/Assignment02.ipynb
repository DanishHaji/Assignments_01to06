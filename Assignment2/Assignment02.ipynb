{
 "cells": [
  {
   "cell_type": "markdown",
   "id": "8a7f11c0-b9f8-4485-8394-98ae34132fd9",
   "metadata": {},
   "source": [
    "#### Scenario 1: Grocery Shopping List\n",
    "You are creating a program to manage a grocery shopping list. Users should be able to add items, \n",
    "remove items, and display the current list."
   ]
  },
  {
   "cell_type": "code",
   "execution_count": 1,
   "id": "3e1c1e21-f97c-49bf-968b-920a901ef42b",
   "metadata": {},
   "outputs": [
    {
     "name": "stdout",
     "output_type": "stream",
     "text": [
      "\n",
      "Grocery Shopping List Manager\n",
      "1. Add item\n",
      "2. Remove item\n",
      "3. Display list\n",
      "4. Exit\n"
     ]
    },
    {
     "name": "stdin",
     "output_type": "stream",
     "text": [
      "Enter your choice (1-4):  1\n",
      "Enter the item to add:  milk\n"
     ]
    },
    {
     "name": "stdout",
     "output_type": "stream",
     "text": [
      "'milk' has been added to the list.\n",
      "\n",
      "Grocery Shopping List Manager\n",
      "1. Add item\n",
      "2. Remove item\n",
      "3. Display list\n",
      "4. Exit\n"
     ]
    },
    {
     "name": "stdin",
     "output_type": "stream",
     "text": [
      "Enter your choice (1-4):  1\n",
      "Enter the item to add:  bread\n"
     ]
    },
    {
     "name": "stdout",
     "output_type": "stream",
     "text": [
      "'bread' has been added to the list.\n",
      "\n",
      "Grocery Shopping List Manager\n",
      "1. Add item\n",
      "2. Remove item\n",
      "3. Display list\n",
      "4. Exit\n"
     ]
    },
    {
     "name": "stdin",
     "output_type": "stream",
     "text": [
      "Enter your choice (1-4):  1\n",
      "Enter the item to add:  eggs\n"
     ]
    },
    {
     "name": "stdout",
     "output_type": "stream",
     "text": [
      "'eggs' has been added to the list.\n",
      "\n",
      "Grocery Shopping List Manager\n",
      "1. Add item\n",
      "2. Remove item\n",
      "3. Display list\n",
      "4. Exit\n"
     ]
    },
    {
     "name": "stdin",
     "output_type": "stream",
     "text": [
      "Enter your choice (1-4):  1\n",
      "Enter the item to add:  sugar\n"
     ]
    },
    {
     "name": "stdout",
     "output_type": "stream",
     "text": [
      "'sugar' has been added to the list.\n",
      "\n",
      "Grocery Shopping List Manager\n",
      "1. Add item\n",
      "2. Remove item\n",
      "3. Display list\n",
      "4. Exit\n"
     ]
    },
    {
     "name": "stdin",
     "output_type": "stream",
     "text": [
      "Enter your choice (1-4):  3\n"
     ]
    },
    {
     "name": "stdout",
     "output_type": "stream",
     "text": [
      "\n",
      "Current grocery list:\n",
      "1. milk\n",
      "2. bread\n",
      "3. eggs\n",
      "4. sugar\n",
      "\n",
      "Grocery Shopping List Manager\n",
      "1. Add item\n",
      "2. Remove item\n",
      "3. Display list\n",
      "4. Exit\n"
     ]
    },
    {
     "name": "stdin",
     "output_type": "stream",
     "text": [
      "Enter your choice (1-4):  2\n",
      "Enter the item to remove:  sugar\n"
     ]
    },
    {
     "name": "stdout",
     "output_type": "stream",
     "text": [
      "'sugar' has been removed from the list.\n",
      "\n",
      "Grocery Shopping List Manager\n",
      "1. Add item\n",
      "2. Remove item\n",
      "3. Display list\n",
      "4. Exit\n"
     ]
    },
    {
     "name": "stdin",
     "output_type": "stream",
     "text": [
      "Enter your choice (1-4):  3\n"
     ]
    },
    {
     "name": "stdout",
     "output_type": "stream",
     "text": [
      "\n",
      "Current grocery list:\n",
      "1. milk\n",
      "2. bread\n",
      "3. eggs\n",
      "\n",
      "Grocery Shopping List Manager\n",
      "1. Add item\n",
      "2. Remove item\n",
      "3. Display list\n",
      "4. Exit\n"
     ]
    },
    {
     "name": "stdin",
     "output_type": "stream",
     "text": [
      "Enter your choice (1-4):  4\n"
     ]
    },
    {
     "name": "stdout",
     "output_type": "stream",
     "text": [
      "Exiting the program. Goodbye!\n"
     ]
    }
   ],
   "source": [
    "def display_menu():\n",
    "    print(\"\\nGrocery Shopping List Manager\")\n",
    "    print(\"1. Add item\")\n",
    "    print(\"2. Remove item\")\n",
    "    print(\"3. Display list\")\n",
    "    print(\"4. Exit\")\n",
    "\n",
    "def add_item(grocery_list):\n",
    "    item = input(\"Enter the item to add: \")\n",
    "    grocery_list.append(item)\n",
    "    print(f\"'{item}' has been added to the list.\")\n",
    "\n",
    "def remove_item(grocery_list):\n",
    "    item = input(\"Enter the item to remove: \")\n",
    "    if item in grocery_list:\n",
    "        grocery_list.remove(item)\n",
    "        print(f\"'{item}' has been removed from the list.\")\n",
    "    else:\n",
    "        print(f\"'{item}' is not in the list.\")\n",
    "\n",
    "def display_list(grocery_list):\n",
    "    if grocery_list:\n",
    "        print(\"\\nCurrent grocery list:\")\n",
    "        for i, item in enumerate(grocery_list, start=1):\n",
    "            print(f\"{i}. {item}\")\n",
    "    else:\n",
    "        print(\"The grocery list is empty.\")\n",
    "\n",
    "def main():\n",
    "    grocery_list = []\n",
    "    while True:\n",
    "        display_menu()\n",
    "        choice = input(\"Enter your choice (1-4): \")\n",
    "\n",
    "        if choice == '1':\n",
    "            add_item(grocery_list)\n",
    "        elif choice == '2':\n",
    "            remove_item(grocery_list)\n",
    "        elif choice == '3':\n",
    "            display_list(grocery_list)\n",
    "        elif choice == '4':\n",
    "            print(\"Exiting the program. Goodbye!\")\n",
    "            break\n",
    "        else:\n",
    "            print(\"Invalid choice. Please enter a number between 1 and 4.\")\n",
    "\n",
    "if __name__ == \"__main__\":\n",
    "    main()"
   ]
  },
  {
   "cell_type": "markdown",
   "id": "868eb977-bdf7-41e4-a1b3-1c0fbb49dfe3",
   "metadata": {},
   "source": [
    "#### Scenario 2: Student Grades\n",
    "You are managing student grades using a dictionary. You need to calculate the average grade.take \n",
    "atleast 5 Students grades & then calculate the average."
   ]
  },
  {
   "cell_type": "code",
   "execution_count": 5,
   "id": "e8c0aa6b-84dc-4a9a-89c6-03dc22b6023c",
   "metadata": {},
   "outputs": [
    {
     "name": "stdout",
     "output_type": "stream",
     "text": [
      "Student Grades:\n",
      "Danish: 95\n",
      "Ali: 88\n",
      "Bilal: 36\n",
      "Daniya: 68\n",
      "Aisha: 72\n",
      "\n",
      "Average Grade: 71.80\n"
     ]
    }
   ],
   "source": [
    "def calculate_average(grades):\n",
    "    total = sum(grades.values())\n",
    "    count = len(grades)\n",
    "    average = total / count\n",
    "    return average\n",
    "\n",
    "def main():\n",
    "    # Dictionary with student names as keys and their grades as values\n",
    "    student_grades = {\n",
    "        \"Danish\": 95,\n",
    "        \"Ali\": 88,\n",
    "        \"Bilal\": 36,\n",
    "        \"Daniya\": 68,\n",
    "        \"Aisha\": 72\n",
    "    }\n",
    "    \n",
    "    # Calculate the average grade\n",
    "    average_grade = calculate_average(student_grades)\n",
    "    \n",
    "    # Display the grades and the average\n",
    "    print(\"Student Grades:\")\n",
    "    for student, grade in student_grades.items():\n",
    "        print(f\"{student}: {grade}\")\n",
    "    \n",
    "    print(f\"\\nAverage Grade: {average_grade:.2f}\")\n",
    "\n",
    "if __name__ == \"__main__\":\n",
    "    main()"
   ]
  },
  {
   "cell_type": "markdown",
   "id": "d5c7160b-9704-46fb-86d5-99c4f1b22ea4",
   "metadata": {},
   "source": [
    "#### Word Frequency Counter\n",
    "You are given a list of words, and you need to count the frequency of each word.\n",
    "word_list = [\"apple\", \"banana\", \"apple\", \"orange\", \"banana\", \"grape\", \"apple\"]"
   ]
  },
  {
   "cell_type": "code",
   "execution_count": 8,
   "id": "dfd144de-559c-4286-b122-7609ff3af071",
   "metadata": {},
   "outputs": [
    {
     "name": "stdout",
     "output_type": "stream",
     "text": [
      "\n",
      "Word Frequencies:\n",
      "--------------------\n",
      "apple      |   3\n",
      "banana     |   2\n",
      "orange     |   1\n",
      "grape      |   1\n",
      "--------------------\n"
     ]
    }
   ],
   "source": [
    "def count_word_frequencies(word_list):\n",
    "    frequency_dict = {}\n",
    "\n",
    "    # Count the occurrences of each word\n",
    "    for word in word_list:\n",
    "        if word in frequency_dict:\n",
    "            frequency_dict[word] += 1\n",
    "        else:\n",
    "            frequency_dict[word] = 1\n",
    "\n",
    "    return frequency_dict\n",
    "\n",
    "def display_frequencies(frequency_dict):\n",
    "    print(\"\\nWord Frequencies:\")\n",
    "    print(\"-\" * 20)\n",
    "    for word, frequency in frequency_dict.items():\n",
    "        print(f\"{word:<10} | {frequency:>3}\")\n",
    "    print(\"-\" * 20)\n",
    "\n",
    "def main():\n",
    "    word_list = [\"apple\", \"banana\", \"apple\", \"orange\", \"banana\", \"grape\", \"apple\"]\n",
    "    frequencies = count_word_frequencies(word_list)\n",
    "    display_frequencies(frequencies)\n",
    "\n",
    "if __name__ == \"__main__\":\n",
    "    main()"
   ]
  },
  {
   "cell_type": "code",
   "execution_count": 16,
   "id": "2e505ae3-ed07-4731-9fbb-1c9fa8f11cfa",
   "metadata": {},
   "outputs": [
    {
     "name": "stdout",
     "output_type": "stream",
     "text": [
      "Welcome to the Password Strength Checker!\n"
     ]
    },
    {
     "name": "stdin",
     "output_type": "stream",
     "text": [
      "Enter a password to check its strength:  !123karan\n"
     ]
    },
    {
     "name": "stdout",
     "output_type": "stream",
     "text": [
      "Congratulations! Password is strong.\n"
     ]
    }
   ],
   "source": [
    "import string\n",
    "\n",
    "def is_strong_password(password):\n",
    "    # Check length\n",
    "    if len(password) < 8:\n",
    "        return False, \"Password must be at least 8 characters long.\"\n",
    "    \n",
    "    # Check for at least one digit, one letter, and one special character\n",
    "    has_digit = any(char.isdigit() for char in password)\n",
    "    has_letter = any(char.isalpha() for char in password)\n",
    "    has_special_char = any(char in string.punctuation for char in password)\n",
    "    \n",
    "    if not has_digit:\n",
    "        return False, \"Password must contain at least one digit.\"\n",
    "    if not has_letter:\n",
    "        return False, \"Password must contain at least one letter.\"\n",
    "    if not has_special_char:\n",
    "        return False, \"Password must contain at least one special character.\"\n",
    "    \n",
    "    return True, \"Password is strong.\"\n",
    "\n",
    "def main():\n",
    "    print(\"Welcome to the Password Strength Checker!\")\n",
    "    password = input(\"Enter a password to check its strength: \").strip()\n",
    "    \n",
    "    # Check the password strength\n",
    "    is_strong, message = is_strong_password(password)\n",
    "    \n",
    "    # Display the result\n",
    "    if is_strong:\n",
    "        print(\"Congratulations! \" + message)\n",
    "    else:\n",
    "        print(\"Weak Password: \" + message)\n",
    "\n",
    "if __name__ == \"__main__\":\n",
    "    main()"
   ]
  },
  {
   "cell_type": "markdown",
   "id": "03040ac1-0d9c-4f9e-a23d-80fa0d77b825",
   "metadata": {},
   "source": [
    "#### Voting System (Annual Employee Recognition Awards)\n",
    "You are developing a simple voting system for a contest. Users can vote for their Favorite option, and \n",
    "you need to count the votes.\n",
    "In a corporate setting, the HR department is organizing the Annual Employee Recognition Awards, \n",
    "where employees get the opportunity to vote for their colleagues nominated in different categories. \n",
    "The HR team has decided to use a simple voting system to collect and tally votes for the nominees in \n",
    "various award categories. The script provided will be utilized for this purpose.\n",
    "Candidates: The nominees for different award categories, such as \"Employee of the Year,\" \"Team \n",
    "Player of the Year,\" and \"Innovation Award,\" are represented by the list of candidates: 'Candidate A,' \n",
    "'Candidate B,' and 'Candidate C.'\n",
    "Voting Process: Employees are requested to input the number of voters participating in the awards. \n",
    "Each voter is presented with a list of nominees, and they can vote for their preferred candidate by \n",
    "entering the corresponding number.\n",
    "Validation: The script ensures that the entered vote is within the valid range of candidates. If an \n",
    "employee enters an invalid vote, the system prompts them to choose a valid candidate.\n",
    "Recording Votes: The script records each vote for the selected candidate and prints a confirmation \n",
    "message indicating that the vote has been recorded.\n",
    "Results Display: Once all votes are collected, the system displays the voting results, showing the \n",
    "number of votes each candidate received in each category.\n",
    "Award Winners: Based on the voting results, the HR department can identify the winners for each \n",
    "award category and proceed with recognizing and rewarding the selected employees during the \n",
    "Annual Employee Recognition Ceremony.\n",
    "This script provides a straightforward and transparent way for employees to participate in the \n",
    "recognition process, fostering a sense of engagement and community within the organization. The \n",
    "HR team can use the collected votes to acknowledge and appreciate the efforts of outstanding \n",
    "employees in various aspects of their work."
   ]
  },
  {
   "cell_type": "code",
   "execution_count": 19,
   "id": "62315725-6b5c-4e46-bf48-4cd9dabb1688",
   "metadata": {},
   "outputs": [
    {
     "name": "stdout",
     "output_type": "stream",
     "text": [
      "Welcome to the Annual Employee Recognition Awards Voting System!\n"
     ]
    },
    {
     "name": "stdin",
     "output_type": "stream",
     "text": [
      "Enter the number of voters:  5\n"
     ]
    },
    {
     "name": "stdout",
     "output_type": "stream",
     "text": [
      "\n",
      "Voter 1:\n",
      "\n",
      "Please vote for one of the following candidates:\n",
      "1. Candidate A\n",
      "2. Candidate B\n",
      "3. Candidate C\n"
     ]
    },
    {
     "name": "stdin",
     "output_type": "stream",
     "text": [
      "Enter the number of your chosen candidate:  2\n"
     ]
    },
    {
     "name": "stdout",
     "output_type": "stream",
     "text": [
      "Vote recorded for Candidate B.\n",
      "\n",
      "Voter 2:\n",
      "\n",
      "Please vote for one of the following candidates:\n",
      "1. Candidate A\n",
      "2. Candidate B\n",
      "3. Candidate C\n"
     ]
    },
    {
     "name": "stdin",
     "output_type": "stream",
     "text": [
      "Enter the number of your chosen candidate:  1\n"
     ]
    },
    {
     "name": "stdout",
     "output_type": "stream",
     "text": [
      "Vote recorded for Candidate A.\n",
      "\n",
      "Voter 3:\n",
      "\n",
      "Please vote for one of the following candidates:\n",
      "1. Candidate A\n",
      "2. Candidate B\n",
      "3. Candidate C\n"
     ]
    },
    {
     "name": "stdin",
     "output_type": "stream",
     "text": [
      "Enter the number of your chosen candidate:  2\n"
     ]
    },
    {
     "name": "stdout",
     "output_type": "stream",
     "text": [
      "Vote recorded for Candidate B.\n",
      "\n",
      "Voter 4:\n",
      "\n",
      "Please vote for one of the following candidates:\n",
      "1. Candidate A\n",
      "2. Candidate B\n",
      "3. Candidate C\n"
     ]
    },
    {
     "name": "stdin",
     "output_type": "stream",
     "text": [
      "Enter the number of your chosen candidate:  2\n"
     ]
    },
    {
     "name": "stdout",
     "output_type": "stream",
     "text": [
      "Vote recorded for Candidate B.\n",
      "\n",
      "Voter 5:\n",
      "\n",
      "Please vote for one of the following candidates:\n",
      "1. Candidate A\n",
      "2. Candidate B\n",
      "3. Candidate C\n"
     ]
    },
    {
     "name": "stdin",
     "output_type": "stream",
     "text": [
      "Enter the number of your chosen candidate:  3\n"
     ]
    },
    {
     "name": "stdout",
     "output_type": "stream",
     "text": [
      "Vote recorded for Candidate C.\n",
      "\n",
      "Voting Results:\n",
      "-------------------------\n",
      "Candidate A         : 1 votes\n",
      "Candidate B         : 3 votes\n",
      "Candidate C         : 1 votes\n",
      "-------------------------\n"
     ]
    }
   ],
   "source": [
    "def display_candidates(candidates):\n",
    "    print(\"\\nPlease vote for one of the following candidates:\")\n",
    "    for i, candidate in enumerate(candidates, start=1):\n",
    "        print(f\"{i}. {candidate}\")\n",
    "\n",
    "def record_votes(candidates, num_voters):\n",
    "    votes = {candidate: 0 for candidate in candidates}\n",
    "\n",
    "    for voter in range(1, num_voters + 1):\n",
    "        while True:\n",
    "            print(f\"\\nVoter {voter}:\")\n",
    "            display_candidates(candidates)\n",
    "            try:\n",
    "                choice = int(input(\"Enter the number of your chosen candidate: \"))\n",
    "                if 1 <= choice <= len(candidates):\n",
    "                    selected_candidate = candidates[choice - 1]\n",
    "                    votes[selected_candidate] += 1\n",
    "                    print(f\"Vote recorded for {selected_candidate}.\")\n",
    "                    break\n",
    "                else:\n",
    "                    print(f\"Invalid choice. Please enter a number between 1 and {len(candidates)}.\")\n",
    "            except ValueError:\n",
    "                print(\"Invalid input. Please enter a number.\")\n",
    "\n",
    "    return votes\n",
    "\n",
    "def display_results(votes):\n",
    "    print(\"\\nVoting Results:\")\n",
    "    print(\"-\" * 25)\n",
    "    for candidate, vote_count in votes.items():\n",
    "        print(f\"{candidate:<20}: {vote_count} votes\")\n",
    "    print(\"-\" * 25)\n",
    "\n",
    "def main():\n",
    "    candidates = ['Candidate A', 'Candidate B', 'Candidate C']\n",
    "    \n",
    "    print(\"Welcome to the Annual Employee Recognition Awards Voting System!\")\n",
    "    while True:\n",
    "        try:\n",
    "            num_voters = int(input(\"Enter the number of voters: \"))\n",
    "            if num_voters > 0:\n",
    "                break\n",
    "            else:\n",
    "                print(\"The number of voters must be greater than zero.\")\n",
    "        except ValueError:\n",
    "            print(\"Invalid input. Please enter a number.\")\n",
    "    \n",
    "    votes = record_votes(candidates, num_voters)\n",
    "    display_results(votes)\n",
    "\n",
    "if __name__ == \"__main__\":\n",
    "    main()"
   ]
  },
  {
   "cell_type": "code",
   "execution_count": null,
   "id": "27cde186-639f-4a62-8328-02bedb89447b",
   "metadata": {},
   "outputs": [],
   "source": []
  }
 ],
 "metadata": {
  "kernelspec": {
   "display_name": "Python 3 (ipykernel)",
   "language": "python",
   "name": "python3"
  },
  "language_info": {
   "codemirror_mode": {
    "name": "ipython",
    "version": 3
   },
   "file_extension": ".py",
   "mimetype": "text/x-python",
   "name": "python",
   "nbconvert_exporter": "python",
   "pygments_lexer": "ipython3",
   "version": "3.11.5"
  }
 },
 "nbformat": 4,
 "nbformat_minor": 5
}
