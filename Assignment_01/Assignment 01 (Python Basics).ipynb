{
 "cells": [
  {
   "cell_type": "markdown",
   "metadata": {},
   "source": [
    "# Part -1 Python Basics (Variables)"
   ]
  },
  {
   "cell_type": "markdown",
   "metadata": {},
   "source": [
    "1. Print Your Name with your Father name and Date of birth using suitable escape sequence charactor"
   ]
  },
  {
   "cell_type": "code",
   "execution_count": 4,
   "metadata": {},
   "outputs": [
    {
     "name": "stdout",
     "output_type": "stream",
     "text": [
      "Name:\t\tDanish\n",
      "Father's Name:\tMuhammad Haji\n",
      "Date of Birth:\tFebruary 16, 1992\n"
     ]
    }
   ],
   "source": [
    "name = \"Danish\"\n",
    "father_name = \"Muhammad Haji\"\n",
    "date_of_birth = \"February 16, 1992\"\n",
    "\n",
    "# Using escape sequences\n",
    "print(\"Name:\\t\\t\" + name)\n",
    "print(\"Father's Name:\\t\" + father_name)\n",
    "print(\"Date of Birth:\\t\" + date_of_birth)"
   ]
  },
  {
   "cell_type": "markdown",
   "metadata": {},
   "source": [
    "2. Write your small bio using variables and print it using print function"
   ]
  },
  {
   "cell_type": "code",
   "execution_count": 7,
   "metadata": {},
   "outputs": [
    {
     "name": "stdout",
     "output_type": "stream",
     "text": [
      "My name is Danish. I am an Engineer specialized in Renewable Energy. I worked at Orient Energy System and had 2 years of experience. My notable achievements include had completed 3 Mega solar project in different industries of Karachi in 1 year.\n"
     ]
    }
   ],
   "source": [
    "# Defining variables to store the bio information\n",
    "my_name = \"Danish\"\n",
    "profession = \"Engineer\"\n",
    "specialization = \"Renewable Energy\"\n",
    "company = \"Orient Energy System\"\n",
    "years_experience = 2\n",
    "achievements = \"had completed 3 Mega solar project in different industries of Karachi in 1 year\"\n",
    "\n",
    "# Constructing the bio using the variables\n",
    "engineer_bio = (f\"My name is {my_name}. I am an {profession} specialized in {specialization}. \"\n",
    "                f\"I worked at {company} and had {years_experience} years of experience. \"\n",
    "                f\"My notable achievements include {achievements}.\")\n",
    "# Printing the bio\n",
    "print(engineer_bio)"
   ]
  },
  {
   "cell_type": "markdown",
   "metadata": {},
   "source": [
    "3. Write a program in which use all the operators we can use in Python"
   ]
  },
  {
   "cell_type": "code",
   "execution_count": 8,
   "metadata": {},
   "outputs": [
    {
     "name": "stdout",
     "output_type": "stream",
     "text": [
      "Arithmetic Operations:\n",
      "Addition: 14\n",
      "Subtraction: 6\n",
      "Multiplication: 40\n",
      "Division: 2.5\n",
      "Floor Division: 2\n",
      "Modulus: 2\n",
      "Exponentiation: 10000\n",
      "\n",
      "Assignment Operations:\n",
      "a after a += 1: 11\n",
      "b after b *= 2: 8\n",
      "\n",
      "Comparison Operations:\n",
      "a == b: False\n",
      "a != b: True\n",
      "a > b: True\n",
      "a < b: False\n",
      "a >= b: True\n",
      "a <= b: False\n",
      "\n",
      "Logical Operations:\n",
      "(a > 10 and b < 10): True\n",
      "(a > 10 or b < 10): True\n",
      "not(a > 10): False\n"
     ]
    }
   ],
   "source": [
    "# Assigning Variables for demonstration\n",
    "\n",
    "a = 10\n",
    "b = 4\n",
    "\n",
    "# Arithmetic Operators\n",
    "addition = a + b         # Addition\n",
    "subtraction = a - b      # Subtraction\n",
    "multiplication = a * b   # Multiplication\n",
    "division = a / b         # Division\n",
    "floor_division = a // b  # Floor Division\n",
    "modulus = a % b          # Modulus\n",
    "exponent = a ** b        # Exponentiation\n",
    "\n",
    "# Assignment Operators\n",
    "a += 1  # Equivalent to a = a + 1\n",
    "b *= 2  # Equivalent to b = b * 2\n",
    "\n",
    "# Comparison Operators\n",
    "equal = (a == b)         # Equal to\n",
    "not_equal = (a != b)     # Not equal to\n",
    "greater_than = (a > b)   # Greater than\n",
    "less_than = (a < b)      # Less than\n",
    "greater_equal = (a >= b) # Greater than or equal to\n",
    "less_equal = (a <= b)    # Less than or equal to\n",
    "\n",
    "# Logical Operators\n",
    "logical_and = (a > 10 and b < 10) # Logical AND\n",
    "logical_or = (a > 10 or b < 10)   # Logical OR\n",
    "logical_not = not(a > 10)         # Logical NOT\n",
    "\n",
    "# Printing all results\n",
    "print(\"Arithmetic Operations:\")\n",
    "print(f\"Addition: {addition}\")\n",
    "print(f\"Subtraction: {subtraction}\")\n",
    "print(f\"Multiplication: {multiplication}\")\n",
    "print(f\"Division: {division}\")\n",
    "print(f\"Floor Division: {floor_division}\")\n",
    "print(f\"Modulus: {modulus}\")\n",
    "print(f\"Exponentiation: {exponent}\")\n",
    "print(\"\\nAssignment Operations:\")\n",
    "print(f\"a after a += 1: {a}\")\n",
    "print(f\"b after b *= 2: {b}\")\n",
    "\n",
    "print(\"\\nComparison Operations:\")\n",
    "print(f\"a == b: {equal}\")\n",
    "print(f\"a != b: {not_equal}\")\n",
    "print(f\"a > b: {greater_than}\")\n",
    "print(f\"a < b: {less_than}\")\n",
    "print(f\"a >= b: {greater_equal}\")\n",
    "print(f\"a <= b: {less_equal}\")\n",
    "\n",
    "print(\"\\nLogical Operations:\")\n",
    "print(f\"(a > 10 and b < 10): {logical_and}\")\n",
    "print(f\"(a > 10 or b < 10): {logical_or}\")\n",
    "print(f\"not(a > 10): {logical_not}\")"
   ]
  },
  {
   "cell_type": "markdown",
   "metadata": {},
   "source": [
    "4. Completes the following steps of small task:\n",
    "    - Mention Marks of English , Islamiat and Maths out of 100 in 3 different variables\n",
    "    - Mention Variable of Total Marks and assign 300 to it\n",
    "    - Calculate Percentage"
   ]
  },
  {
   "cell_type": "code",
   "execution_count": 9,
   "metadata": {},
   "outputs": [
    {
     "name": "stdout",
     "output_type": "stream",
     "text": [
      "Marks in English: 70\n",
      "Marks in Islamiat: 85\n",
      "Marks in Maths: 90\n",
      "Total Marks: 300\n",
      "Obtained Marks: 245\n",
      "Percentage: 81.66666666666667\n"
     ]
    }
   ],
   "source": [
    "# Mention Marks of English, Islamiat, and Maths out of 100 in 3 different variables\n",
    "marks_english = 70\n",
    "marks_islamiat = 85\n",
    "marks_maths = 90\n",
    "\n",
    "# Mention Variable of Total Marks and assign 300 to it\n",
    "total_marks = 300\n",
    "\n",
    "# Calculating Percentage\n",
    "obtained_marks = marks_english + marks_islamiat + marks_maths\n",
    "percentage = (obtained_marks / total_marks) * 100\n",
    "\n",
    "# Printing the results\n",
    "print(\"Marks in English:\", marks_english)\n",
    "print(\"Marks in Islamiat:\", marks_islamiat)\n",
    "print(\"Marks in Maths:\", marks_maths)\n",
    "print(\"Total Marks:\", total_marks)\n",
    "print(\"Obtained Marks:\", obtained_marks)\n",
    "print(\"Percentage:\", percentage)"
   ]
  },
  {
   "cell_type": "markdown",
   "metadata": {},
   "source": [
    "# Part -2 Python Basics (Conditional Statements)"
   ]
  },
  {
   "cell_type": "markdown",
   "metadata": {},
   "source": [
    "1) A company decided to give bonus of 5% to employee if his/her year of service is more than 5 years.\n",
    "Ask user for their salary and year of service and print the net bonus amount."
   ]
  },
  {
   "cell_type": "code",
   "execution_count": 12,
   "metadata": {},
   "outputs": [
    {
     "name": "stdout",
     "output_type": "stream",
     "text": [
      "Enter your salary: 1000\n",
      "Enter your years of service: 1\n",
      "You are not eligible for a bonus as your service is less than or equal to 5 years.\n",
      "Net Bonus Amount: Rs.0.00\n"
     ]
    }
   ],
   "source": [
    "# Asking from user for there input\n",
    "salary = float(input(\"Enter your salary: \"))\n",
    "years_of_service = int(input(\"Enter your years of service: \"))\n",
    "\n",
    "# Bonus percentage\n",
    "bonus_percentage = 5\n",
    "\n",
    "# Checking if the years of service are more than 5 years\n",
    "if years_of_service > 5:\n",
    "    # Calculating the bonus amount\n",
    "    bonus_amount = (bonus_percentage / 100) * salary\n",
    "    print(f\"Congratulations! You are eligible for a bonus of {bonus_percentage}%.\")\n",
    "else:\n",
    "    # No bonus for service 5 years or less\n",
    "    bonus_amount = 0\n",
    "    print(\"You are not eligible for a bonus as your service is less than or equal to 5 years.\")\n",
    "\n",
    "# Printing the net bonus amount\n",
    "print(f\"Net Bonus Amount: Rs.{bonus_amount:.2f}\")"
   ]
  },
  {
   "cell_type": "markdown",
   "metadata": {},
   "source": [
    "\n",
    "2) Write a program to check whether a person is eligible for voting or not. (accept age from user) if age is greater than 17 eligible otherwise not eligible"
   ]
  },
  {
   "cell_type": "code",
   "execution_count": 14,
   "metadata": {},
   "outputs": [
    {
     "name": "stdout",
     "output_type": "stream",
     "text": [
      "Enter your age: 17\n",
      "You are not eligible to vote.\n"
     ]
    }
   ],
   "source": [
    "# Asking the user to input their age\n",
    "age = int(input(\"Enter your age: \"))\n",
    "\n",
    "# Checking if the age is greater than 17\n",
    "if age > 17:\n",
    "    print(\"You are eligible to vote.\")\n",
    "else:\n",
    "    print(\"You are not eligible to vote.\")"
   ]
  },
  {
   "cell_type": "markdown",
   "metadata": {},
   "source": [
    "\n",
    "3) Write a program to check whether a number entered by user is even or odd."
   ]
  },
  {
   "cell_type": "code",
   "execution_count": 15,
   "metadata": {},
   "outputs": [
    {
     "name": "stdout",
     "output_type": "stream",
     "text": [
      "Enter a number: 2\n",
      "The number 2 is Even.\n"
     ]
    }
   ],
   "source": [
    "def check_even_odd(num):\n",
    "    if num % 2 == 0:\n",
    "        return \"Even\"\n",
    "    else:\n",
    "        return \"Odd\"\n",
    "\n",
    "# Taking input from the user\n",
    "num = int(input(\"Enter a number: \"))\n",
    "\n",
    "# Checking if the number is even or odd\n",
    "result = check_even_odd(num)\n",
    "\n",
    "# Displaying the result\n",
    "print(f\"The number {num} is {result}.\")"
   ]
  },
  {
   "cell_type": "markdown",
   "metadata": {},
   "source": [
    "4) Write a program to check whether a number is divisible by 7 or not.\n",
    "Show Answer"
   ]
  },
  {
   "cell_type": "code",
   "execution_count": 17,
   "metadata": {},
   "outputs": [
    {
     "name": "stdout",
     "output_type": "stream",
     "text": [
      "Enter a number: 9\n",
      "9 is not divisible by 7.\n"
     ]
    }
   ],
   "source": [
    "def check_divisible_by_7(num):\n",
    "    if num % 7 == 0:\n",
    "        return True\n",
    "    else:\n",
    "        return False\n",
    "\n",
    "# Taking input from the user\n",
    "num = int(input(\"Enter a number: \"))\n",
    "\n",
    "# Checking if the number is divisible by 7\n",
    "if check_divisible_by_7(num):\n",
    "    print(f\"{num} is divisible by 7.\")\n",
    "else:\n",
    "    print(f\"{num} is not divisible by 7.\")"
   ]
  },
  {
   "cell_type": "markdown",
   "metadata": {},
   "source": [
    "5) Write a program to display \n",
    "\"Hello\" if a number entered by user is a multiple of five , otherwise print \"Bye\"."
   ]
  },
  {
   "cell_type": "code",
   "execution_count": 19,
   "metadata": {},
   "outputs": [
    {
     "name": "stdout",
     "output_type": "stream",
     "text": [
      "Enter a number: 15\n",
      "Hello\n"
     ]
    }
   ],
   "source": [
    "# Taking input from the user\n",
    "num = int(input(\"Enter a number: \"))\n",
    "\n",
    "# Checking if the number is a multiple of 5\n",
    "if num % 5 == 0:\n",
    "    print(\"Hello\")\n",
    "else:\n",
    "    print(\"Bye\")"
   ]
  },
  {
   "cell_type": "markdown",
   "metadata": {},
   "source": [
    "6) Write a program to calculate the electricity bill (accept number of unit from user) according to the following criteria :\n",
    "     Unit                                                     Price  \n",
    "uptp 100 units                                             no charge\n",
    "Next 200 units                                              Rs 5 per unit\n",
    "After 200 units                                             Rs 10 per unit\n",
    "(For example if input unit is 350 than total bill amount is Rs.3500\n",
    "(For example if input unit is 97 than total bill amount is Rs.0\n",
    "(For example if input unit is 150 than total bill amount is Rs.750"
   ]
  },
  {
   "cell_type": "code",
   "execution_count": 20,
   "metadata": {},
   "outputs": [
    {
     "name": "stdout",
     "output_type": "stream",
     "text": [
      "Enter the number of units consumed: 120\n",
      "The total electricity bill amount is Rs. 100\n"
     ]
    }
   ],
   "source": [
    "# Taking input from the user\n",
    "units = int(input(\"Enter the number of units consumed: \"))\n",
    "\n",
    "# Calculating the electricity bill\n",
    "if units <= 100:\n",
    "    bill_amount = 0\n",
    "elif units <= 300:\n",
    "    bill_amount = (units - 100) * 5\n",
    "else:\n",
    "    bill_amount = 200 * 5 + (units - 300) * 10\n",
    "\n",
    "# Displaying the total bill amount\n",
    "print(f\"The total electricity bill amount is Rs. {bill_amount}\")"
   ]
  },
  {
   "cell_type": "markdown",
   "metadata": {},
   "source": [
    "7) Write a program to display the last digit of a number.\n"
   ]
  },
  {
   "cell_type": "code",
   "execution_count": 21,
   "metadata": {},
   "outputs": [
    {
     "name": "stdout",
     "output_type": "stream",
     "text": [
      "Enter a number: 1507\n",
      "The last digit of 1507 is 7.\n"
     ]
    }
   ],
   "source": [
    "# Taking input from the user\n",
    "num = int(input(\"Enter a number: \"))\n",
    "\n",
    "# Using modulus operator to get the last digit\n",
    "last_digit = num % 10\n",
    "\n",
    "# Displaying the last digit\n",
    "print(f\"The last digit of {num} is {last_digit}.\")"
   ]
  },
  {
   "cell_type": "markdown",
   "metadata": {},
   "source": [
    "9) Take values of length and breadth of a rectangle from user and print if it is square or rectangle."
   ]
  },
  {
   "cell_type": "code",
   "execution_count": 22,
   "metadata": {},
   "outputs": [
    {
     "name": "stdout",
     "output_type": "stream",
     "text": [
      "Enter the length of the rectangle: 6\n",
      "Enter the breadth of the rectangle: 6\n",
      "It is a square.\n"
     ]
    }
   ],
   "source": [
    "# Taking input from the user\n",
    "length = float(input(\"Enter the length of the rectangle: \"))\n",
    "breadth = float(input(\"Enter the breadth of the rectangle: \"))\n",
    "\n",
    "# Checking if it is a square or rectangle\n",
    "if length == breadth:\n",
    "    print(\"It is a square.\")\n",
    "else:\n",
    "    print(\"It is a rectangle.\")"
   ]
  },
  {
   "cell_type": "markdown",
   "metadata": {},
   "source": [
    "10) Take two int values from user and print greatest among them."
   ]
  },
  {
   "cell_type": "code",
   "execution_count": 23,
   "metadata": {},
   "outputs": [
    {
     "name": "stdout",
     "output_type": "stream",
     "text": [
      "Enter the first integer: 3\n",
      "Enter the second integer: 4\n",
      "The greatest number between 3 and 4 is 4.\n"
     ]
    }
   ],
   "source": [
    "# Taking input from the user for two integers\n",
    "num1 = int(input(\"Enter the first integer: \"))\n",
    "num2 = int(input(\"Enter the second integer: \"))\n",
    "\n",
    "# Comparing the two numbers to find the greatest\n",
    "if num1 > num2:\n",
    "    greatest = num1\n",
    "else:\n",
    "    greatest = num2\n",
    "\n",
    "# Displaying the greatest number\n",
    "print(f\"The greatest number between {num1} and {num2} is {greatest}.\")"
   ]
  },
  {
   "cell_type": "markdown",
   "metadata": {},
   "source": [
    "11) A shop will give discount of 10% if the cost of purchased quantity is more than 1000.\n",
    "Ask user for quantity\n",
    "Suppose, one unit will cost 100.\n",
    "Judge and print total cost for user."
   ]
  },
  {
   "cell_type": "code",
   "execution_count": 25,
   "metadata": {},
   "outputs": [
    {
     "name": "stdout",
     "output_type": "stream",
     "text": [
      "Enter the quantity purchased: 16\n",
      "The total cost for purchasing 16 units is Rs. 1440.00\n"
     ]
    }
   ],
   "source": [
    "# Cost per unit\n",
    "cost_per_unit = 100\n",
    "\n",
    "# Taking input from the user for quantity\n",
    "quantity = int(input(\"Enter the quantity purchased: \"))\n",
    "\n",
    "# Calculating total cost without discount\n",
    "total_cost = quantity * cost_per_unit\n",
    "\n",
    "# Applying discount if total cost is more than 1000\n",
    "if total_cost > 1000:\n",
    "    discount = 0.1 * total_cost\n",
    "    total_cost -= discount\n",
    "\n",
    "# Displaying the total cost to the user\n",
    "print(f\"The total cost for purchasing {quantity} units is Rs. {total_cost:.2f}\")"
   ]
  },
  {
   "cell_type": "markdown",
   "metadata": {},
   "source": [
    "12) A school has following rules for grading system:\n",
    "\n",
    "a. Below 25 - F\n",
    "\n",
    "b. 25 to 45 - E\n",
    "\n",
    "c. 45 to 50 - D\n",
    "\n",
    "d. 50 to 60 - C\n",
    "\n",
    "e. 60 to 80 - B\n",
    "\n",
    "f. Above 80 - A\n",
    "\n",
    "Ask user to enter marks and print the corresponding grade."
   ]
  },
  {
   "cell_type": "code",
   "execution_count": 27,
   "metadata": {},
   "outputs": [
    {
     "name": "stdout",
     "output_type": "stream",
     "text": [
      "Enter the marks obtained: 23\n",
      "The grade for marks 23.0 is: F\n"
     ]
    }
   ],
   "source": [
    "# Taking input from the user for marks\n",
    "marks = float(input(\"Enter the marks obtained: \"))\n",
    "\n",
    "# Determining the grade based on the marks\n",
    "if marks < 25:\n",
    "    grade = \"F\"\n",
    "elif marks < 45:\n",
    "    grade = \"E\"\n",
    "elif marks < 50:\n",
    "    grade = \"D\"\n",
    "elif marks < 60:\n",
    "    grade = \"C\"\n",
    "elif marks < 80:\n",
    "    grade = \"B\"\n",
    "else:\n",
    "    grade = \"A\"\n",
    "\n",
    "# Displaying the grade corresponding to the marks\n",
    "print(f\"The grade for marks {marks} is: {grade}\")"
   ]
  },
  {
   "cell_type": "markdown",
   "metadata": {},
   "source": [
    "13) Take input of age of 3 people by user and determine oldest and youngest among them."
   ]
  },
  {
   "cell_type": "code",
   "execution_count": 28,
   "metadata": {},
   "outputs": [
    {
     "name": "stdout",
     "output_type": "stream",
     "text": [
      "Enter age of first person: 19\n",
      "Enter age of second person: 20\n",
      "Enter age of third person: 30\n",
      "The oldest person is 30 years old.\n",
      "The youngest person is 19 years old.\n"
     ]
    }
   ],
   "source": [
    "# Taking input from the user for age of three people\n",
    "age1 = int(input(\"Enter age of first person: \"))\n",
    "age2 = int(input(\"Enter age of second person: \"))\n",
    "age3 = int(input(\"Enter age of third person: \"))\n",
    "\n",
    "# Determining the oldest and youngest among the three\n",
    "oldest = max(age1, age2, age3)\n",
    "youngest = min(age1, age2, age3)\n",
    "\n",
    "# Displaying the results\n",
    "print(f\"The oldest person is {oldest} years old.\")\n",
    "print(f\"The youngest person is {youngest} years old.\")"
   ]
  },
  {
   "cell_type": "markdown",
   "metadata": {},
   "source": [
    "14)A student will not be allowed to sit in exam if his/her attendence is less than 75%.\n",
    "\n",
    "Take following input from user\n",
    "\n",
    "- Number of classes held\n",
    "\n",
    "- Number of classes attended.\n",
    "\n",
    "And print\n",
    "\n",
    "- percentage of class attended\n",
    "\n",
    "- Is student is allowed to sit in exam or not.\n"
   ]
  },
  {
   "cell_type": "code",
   "execution_count": 30,
   "metadata": {},
   "outputs": [
    {
     "name": "stdout",
     "output_type": "stream",
     "text": [
      "Enter the number of classes held: 12\n",
      "Enter the number of classes attended: 9\n",
      "Attendance percentage: 75.00%\n",
      "Student is allowed to sit in the exam.\n"
     ]
    }
   ],
   "source": [
    "# Taking input from the user\n",
    "classes_held = int(input(\"Enter the number of classes held: \"))\n",
    "classes_attended = int(input(\"Enter the number of classes attended: \"))\n",
    "\n",
    "# Calculating attendance percentage\n",
    "attendance_percentage = (classes_attended / classes_held) * 100\n",
    "\n",
    "# Determining if the student is allowed to sit in the exam\n",
    "if attendance_percentage >= 75:\n",
    "    allowed = True\n",
    "else:\n",
    "    allowed = False\n",
    "\n",
    "# Displaying the results\n",
    "print(f\"Attendance percentage: {attendance_percentage:.2f}%\")\n",
    "\n",
    "if allowed:\n",
    "    print(\"Student is allowed to sit in the exam.\")\n",
    "else:\n",
    "    print(\"Student is not allowed to sit in the exam.\")"
   ]
  },
  {
   "cell_type": "markdown",
   "metadata": {},
   "source": [
    "15) Modify the above question to allow student to sit if he/she has medical cause. Ask user if he/she has medical cause or not ( 'Y' or 'N' ) and print accordingly."
   ]
  },
  {
   "cell_type": "code",
   "execution_count": 31,
   "metadata": {},
   "outputs": [
    {
     "name": "stdout",
     "output_type": "stream",
     "text": [
      "Enter the number of classes held: 12\n",
      "Enter the number of classes attended: 6\n",
      "Do you have a medical cause? (Y/N): y\n",
      "Attendance percentage: 50.00%\n",
      "Student is allowed to sit in the exam.\n"
     ]
    }
   ],
   "source": [
    "# Taking input from the user\n",
    "classes_held = int(input(\"Enter the number of classes held: \"))\n",
    "classes_attended = int(input(\"Enter the number of classes attended: \"))\n",
    "medical_cause = input(\"Do you have a medical cause? (Y/N): \").strip().upper()\n",
    "\n",
    "# Calculating attendance percentage\n",
    "attendance_percentage = (classes_attended / classes_held) * 100\n",
    "\n",
    "# Determining if the student is allowed to sit in the exam\n",
    "if attendance_percentage >= 75:\n",
    "    allowed = True\n",
    "elif medical_cause == 'Y':\n",
    "    allowed = True\n",
    "else:\n",
    "    allowed = False\n",
    "\n",
    "# Displaying the results\n",
    "print(f\"Attendance percentage: {attendance_percentage:.2f}%\")\n",
    "\n",
    "if allowed:\n",
    "    print(\"Student is allowed to sit in the exam.\")\n",
    "else:\n",
    "    print(\"Student is not allowed to sit in the exam.\")"
   ]
  },
  {
   "cell_type": "markdown",
   "metadata": {},
   "source": [
    "16) Write a program to check if a year is leap year or not.\n",
    "\n",
    "If a year is divisible by 4 then it is leap year but if the year is century year like 2000, 1900, 2100 then it must be divisible by 400."
   ]
  },
  {
   "cell_type": "code",
   "execution_count": 33,
   "metadata": {},
   "outputs": [
    {
     "name": "stdout",
     "output_type": "stream",
     "text": [
      "Enter a year: 1994\n",
      "1994 is not a leap year.\n"
     ]
    }
   ],
   "source": [
    "# Taking input from the user\n",
    "year = int(input(\"Enter a year: \"))\n",
    "\n",
    "# Checking if the year is a leap year\n",
    "if (year % 4 == 0 and year % 100 != 0) or (year % 400 == 0):\n",
    "    print(f\"{year} is a leap year.\")\n",
    "else:\n",
    "    print(f\"{year} is not a leap year.\")"
   ]
  },
  {
   "cell_type": "markdown",
   "metadata": {},
   "source": [
    "17) Ask user to enter age, gender ( M or F ), marital status ( Y or N ) and then using following rules print their place of service.\n",
    "\n",
    "if employee is female, then she will work only in urban areas.\n",
    "\n",
    "if employee is a male and age is in between 20 to 40 then he may work in anywhere\n",
    "\n",
    "if employee is male and age is in between 40 t0 60 then he will work in urban areas only.\n",
    "\n",
    "And any other input of age should print \"ERROR\""
   ]
  },
  {
   "cell_type": "code",
   "execution_count": 34,
   "metadata": {},
   "outputs": [
    {
     "name": "stdout",
     "output_type": "stream",
     "text": [
      "Enter age: 30\n",
      "Enter gender (M or F): M\n",
      "Enter marital status (Y or N): Y\n",
      "Place of service: Anywhere\n"
     ]
    }
   ],
   "source": [
    "# Taking input from the user\n",
    "age = int(input(\"Enter age: \"))\n",
    "gender = input(\"Enter gender (M or F): \").upper()\n",
    "marital_status = input(\"Enter marital status (Y or N): \").upper()\n",
    "\n",
    "# Determining place of service based on the rules\n",
    "if age < 20 or age > 60:\n",
    "    print(\"ERROR: Age must be between 20 and 60.\")\n",
    "elif gender == 'F':\n",
    "    print(\"Place of service: Urban areas\")\n",
    "elif gender == 'M':\n",
    "    if 20 <= age <= 40:\n",
    "        print(\"Place of service: Anywhere\")\n",
    "    elif 40 < age <= 60:\n",
    "        print(\"Place of service: Urban areas only\")\n",
    "    else:\n",
    "        print(\"ERROR: Invalid input for age.\")\n",
    "else:\n",
    "    print(\"ERROR: Invalid input for gender.\")"
   ]
  }
 ],
 "metadata": {
  "kernelspec": {
   "display_name": "Python 3 (ipykernel)",
   "language": "python",
   "name": "python3"
  },
  "language_info": {
   "codemirror_mode": {
    "name": "ipython",
    "version": 3
   },
   "file_extension": ".py",
   "mimetype": "text/x-python",
   "name": "python",
   "nbconvert_exporter": "python",
   "pygments_lexer": "ipython3",
   "version": "3.11.5"
  }
 },
 "nbformat": 4,
 "nbformat_minor": 2
}
