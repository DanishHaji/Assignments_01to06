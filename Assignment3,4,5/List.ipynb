{
 "cells": [
  {
   "cell_type": "markdown",
   "id": "bfcae2b9-c0c3-4e93-bcf2-bc9e54abf84c",
   "metadata": {},
   "source": [
    "1. Write a program that accepts a list from user and print the alternate element of list."
   ]
  },
  {
   "cell_type": "code",
   "execution_count": 6,
   "id": "103a5d20-8798-4d4a-a05a-7def07d7155c",
   "metadata": {},
   "outputs": [
    {
     "name": "stdin",
     "output_type": "stream",
     "text": [
      "Enter a list of elements separated by spaces:  Danish Haji Rao Huzaifa Rao Hasnain Rai Zubair Haji Rao\n"
     ]
    },
    {
     "name": "stdout",
     "output_type": "stream",
     "text": [
      "Alternate elements of the list are: ['Danish', 'Rao', 'Rao', 'Rai', 'Haji']\n"
     ]
    }
   ],
   "source": [
    "my_input = input(\"Enter a list of elements separated by spaces: \")\n",
    "my_list = my_input.split() #splitting the input string into a list\n",
    "\n",
    "# Getting alternate elements using slicing\n",
    "alt_elements = my_list[::2]\n",
    "\n",
    "print(\"Alternate elements of the list are:\", alt_elements)"
   ]
  },
  {
   "cell_type": "markdown",
   "id": "95377106-1768-4997-b526-1773ce7678f5",
   "metadata": {},
   "source": [
    "2. Write a program that accepts a list from user. Your program should reverse the content of list and \n",
    "display it. Do not use reverse() method."
   ]
  },
  {
   "cell_type": "code",
   "execution_count": 11,
   "id": "dc7edc44-9038-44c9-b89d-ee0ec1edfa78",
   "metadata": {},
   "outputs": [
    {
     "name": "stdin",
     "output_type": "stream",
     "text": [
      "Enter a list of elements separated y spaces:  hi my name is danish and i am a student of pythin programmming\n"
     ]
    },
    {
     "name": "stdout",
     "output_type": "stream",
     "text": [
      "Reversed Content List: ['programmming', 'pythin', 'of', 'student', 'a', 'am', 'i', 'and', 'danish', 'is', 'name', 'my', 'hi']\n"
     ]
    }
   ],
   "source": [
    "my_input = input(\"Enter a list of elements separated y spaces: \")\n",
    "my_list = my_input.split() # splitting the input string into a list\n",
    "\n",
    "# Reversing the cotent of list\n",
    "alt_elements = my_list[::-1]\n",
    "\n",
    "print(\"Reversed Content List:\", alt_elements)"
   ]
  },
  {
   "cell_type": "markdown",
   "id": "62046267-9ee3-43cd-89f4-a7144d920c65",
   "metadata": {},
   "source": [
    " 3. Find and display the largest number of a list without using built-in function max(). Your program \n",
    "should ask the user to input values in list from keyboard."
   ]
  },
  {
   "cell_type": "code",
   "execution_count": 20,
   "id": "35e46877-248c-4542-b8e5-1e708a0f4357",
   "metadata": {},
   "outputs": [
    {
     "name": "stdin",
     "output_type": "stream",
     "text": [
      "Enter a list numbers separated by spaces:  10 20 30 40 50 1 2 3 4 \n"
     ]
    },
    {
     "name": "stdout",
     "output_type": "stream",
     "text": [
      "The largest number in the list is: 50\n"
     ]
    }
   ],
   "source": [
    "user_input = input(\"Enter a list numbers separated by spaces: \")\n",
    "user_list = list(map(int, user_input.split())) #converting input strings to integers\n",
    "\n",
    "# Finding the largest number without using max()\n",
    "largest_number = user_list[0] # Assume the first number is the largest number initially\n",
    "\n",
    "for number in user_list:\n",
    "    if number > largest_number:\n",
    "        largest_number = number #update largest_number if a largest number is found\n",
    "\n",
    "print(\"The largest number in the list is:\", largest_number)"
   ]
  },
  {
   "cell_type": "markdown",
   "id": "a118a2b6-8726-4015-ad07-e2782ff9960c",
   "metadata": {},
   "source": [
    "4. Write a program that rotates the element of a list so that the element at the first index moves to the \n",
    "second index, the element in the second index moves to the third index, etc., and the element in the last \n",
    "index moves to the first index. "
   ]
  },
  {
   "cell_type": "code",
   "execution_count": 29,
   "id": "003e7470-4bc3-42fc-8f4d-23fb940bcf06",
   "metadata": {},
   "outputs": [
    {
     "name": "stdin",
     "output_type": "stream",
     "text": [
      "Enter a list of elements separated by spaves:  my name is danish hi\n"
     ]
    },
    {
     "name": "stdout",
     "output_type": "stream",
     "text": [
      "Rotated list is: ['hi', 'my', 'name', 'is', 'danish']\n"
     ]
    }
   ],
   "source": [
    "user_input = input(\"Enter a list of elements separated by spaves: \")\n",
    "user_list = user_input.split() \n",
    "\n",
    "#Rotating the list\n",
    "if user_list: #check if the list is not empty\n",
    "    rotated_list = [user_list[-1]] + user_list[:-1] # move last element to the front\n",
    "else:\n",
    "    rotated_list = [] #handle empty list\n",
    "\n",
    "# Printing the rotated list\n",
    "print(\"Rotated list is:\", rotated_list)"
   ]
  },
  {
   "cell_type": "markdown",
   "id": "04b44a89-4168-4294-bb93-59bc8efceb7e",
   "metadata": {},
   "source": [
    "5. Write a program that input a string and ask user to delete a given word from a string. "
   ]
  },
  {
   "cell_type": "code",
   "execution_count": 34,
   "id": "363c2199-ebc3-4470-b8f8-0c6cd0c77949",
   "metadata": {},
   "outputs": [
    {
     "name": "stdin",
     "output_type": "stream",
     "text": [
      "Enter a string:  i am danish student at saylani mass IT program.\n",
      "Enter the word you want to delete:  saylani\n"
     ]
    },
    {
     "name": "stdout",
     "output_type": "stream",
     "text": [
      "Modified string is: i am danish student at  mass IT program.\n"
     ]
    }
   ],
   "source": [
    "input_string = input(\"Enter a string: \")\n",
    "word_to_delete = input(\"Enter the word you want to delete: \")\n",
    "modified_string = input_string.replace(word_to_delete, \"\").strip()\n",
    "print(\"Modified string is:\", modified_string)"
   ]
  },
  {
   "cell_type": "markdown",
   "id": "876f8a75-8cea-4d49-8615-eff1869c17a7",
   "metadata": {},
   "source": [
    " 6. Write a program that reads a string from the user containing a date in the form mm/dd/yyyy. It \n",
    "should print the date in the form March 12, 2021."
   ]
  },
  {
   "cell_type": "code",
   "execution_count": 39,
   "id": "cd98921b-54ac-4bec-8131-ea1bbed13db3",
   "metadata": {},
   "outputs": [
    {
     "name": "stdin",
     "output_type": "stream",
     "text": [
      "Enter a date (mm/dd/yy) 02/16/1992\n"
     ]
    },
    {
     "name": "stdout",
     "output_type": "stream",
     "text": [
      "February 16, 1992\n"
     ]
    }
   ],
   "source": [
    "names_of_month = {\n",
    "    '01': 'January', '02': 'February', '03': 'March', '04': 'April',\n",
    "    '05': 'May', '06': 'June', '07': 'July', '08': 'August',\n",
    "    '09': 'September', '10': 'October', '11': 'November', '12': 'December'\n",
    "}\n",
    "date_input = input(\"Enter a date (mm/dd/yy)\")\n",
    "month, day, year = date_input.split('/')\n",
    "day = str(int(day))\n",
    "names_of_month = names_of_month[month]\n",
    "print(f\"{names_of_month} {day}, {year}\")"
   ]
  },
  {
   "cell_type": "markdown",
   "id": "7c7b0312-7e6d-429f-9038-fcaac6814a83",
   "metadata": {},
   "source": [
    " 7. Write a program with a function that accepts a string from keyboard and create a new string after \n",
    "converting character of each word capitalized. For instance, if the sentence is \"stop and smell the roses.\" \n",
    "the output should be \"Stop And Smell The Roses\" "
   ]
  },
  {
   "cell_type": "code",
   "execution_count": 42,
   "id": "3e216d04-61a6-4d1b-8931-59d5560a50e5",
   "metadata": {},
   "outputs": [
    {
     "name": "stdin",
     "output_type": "stream",
     "text": [
      "Enter your Sentence:  hi my name is danish and i am a professional engineer\n"
     ]
    },
    {
     "name": "stdout",
     "output_type": "stream",
     "text": [
      "Hi My Name Is Danish And I Am A Professional Engineer\n"
     ]
    }
   ],
   "source": [
    "def cap_words(sentence):\n",
    "    words = sentence.split()\n",
    "    cap_words = [word.capitalize() for word in words]\n",
    "    new_sentence = ' '.join(cap_words)\n",
    "    return new_sentence\n",
    "user_input = input(\"Enter your Sentence: \")\n",
    "cap_sentence = cap_words(user_input)\n",
    "print(cap_sentence)"
   ]
  },
  {
   "cell_type": "markdown",
   "id": "0b087b04-f500-4026-90dd-9bab7149241a",
   "metadata": {},
   "source": [
    "8. Find the sum of each row of matrix of size m x n. For example for the following matrix output will be \n",
    "like this : \n",
    "    [2, 11, 7, 12]\n",
    "    [5, 2, 9, 15]\n",
    "    [8, 3, 10, 42]\n",
    "Sum of row 1 = 32 \n",
    "Sum of row 2 = 31 \n",
    "Sum of row 3 = 63 "
   ]
  },
  {
   "cell_type": "code",
   "execution_count": 45,
   "id": "b573771b-4958-4bc1-ab3b-f13799118a60",
   "metadata": {},
   "outputs": [
    {
     "name": "stdout",
     "output_type": "stream",
     "text": [
      "sum of row1 = 32\n",
      "sum of row2 = 31\n",
      "sum of row3 = 63\n"
     ]
    }
   ],
   "source": [
    "def sum_of_rows (matrix):\n",
    "    for i, row in enumerate(matrix):\n",
    "        row_sum = sum(row)\n",
    "        print(f\"sum of row{i +1} = {row_sum}\")\n",
    "matrix = [\n",
    "    [2, 11, 7, 12],\n",
    "    [5, 2, 9, 15],\n",
    "    [8, 3, 10, 42]\n",
    "]\n",
    "sum_of_rows(matrix)"
   ]
  },
  {
   "cell_type": "markdown",
   "id": "3e2269e3-10e3-4179-9431-1654a125858b",
   "metadata": {},
   "source": [
    "9. Write a program to add two matrices of size n x m"
   ]
  },
  {
   "cell_type": "code",
   "execution_count": 54,
   "id": "3cbcc07c-18be-4e9b-8c3f-279853bdf67e",
   "metadata": {},
   "outputs": [
    {
     "name": "stdout",
     "output_type": "stream",
     "text": [
      "After Addition of Matrices:\n",
      "[4, 22, 14, 24]\n",
      "[10, 4, 18, 30]\n",
      "[16, 6, 20, 84]\n"
     ]
    }
   ],
   "source": [
    "def add_matrices(matrix1, matrix2):\n",
    "    rows = len(matrix1)\n",
    "    cols = len(matrix1[0])\n",
    "    results_matrix = [[0 for _ in range(cols)] for _ in range(rows)]\n",
    "    for i in range(rows):\n",
    "        for j in range(cols):\n",
    "            results_matrix[i][j] = matrix1[i][j] + matrix2[i][j]\n",
    "    return results_matrix\n",
    "matrix1 = [\n",
    "    [2, 11, 7, 12],\n",
    "    [5, 2, 9, 15],\n",
    "    [8, 3, 10, 42]\n",
    "]\n",
    "\n",
    "matrix2 = [\n",
    "    [2, 11, 7, 12],\n",
    "    [5, 2, 9, 15],\n",
    "    [8, 3, 10, 42]\n",
    "]\n",
    "\n",
    "result = add_matrices(matrix1, matrix2)\n",
    "print(\"After Addition of Matrices:\")\n",
    "for row in result:\n",
    "    print(row)"
   ]
  },
  {
   "cell_type": "markdown",
   "id": "e48a6556-ed54-4c36-9d6f-37caf31b17ab",
   "metadata": {},
   "source": [
    "10. Write a program to multiply two matrices"
   ]
  },
  {
   "cell_type": "code",
   "execution_count": 58,
   "id": "e77776e4-10d0-4229-901d-9152f3d7ea65",
   "metadata": {},
   "outputs": [
    {
     "name": "stdout",
     "output_type": "stream",
     "text": [
      "Resulting Matrix after multiplication:\n",
      "[115, 65, 183]\n",
      "[92, 86, 143]\n",
      "[111, 124, 183]\n"
     ]
    }
   ],
   "source": [
    "def multiply_matrices(matrix1, matrix2):\n",
    "    # Number of rows in matrix1 and columns in matrix2\n",
    "    rows_matrix1 = len(matrix1)\n",
    "    cols_matrix2 = len(matrix2[0])\n",
    "    cols_matrix1 = len(matrix1[0])\n",
    "    \n",
    "    # Initialize the result matrix with zeros\n",
    "    result_matrix = [[0 for _ in range(cols_matrix2)] for _ in range(rows_matrix1)]\n",
    "\n",
    "    # Perform matrix multiplication\n",
    "    for i in range(rows_matrix1):\n",
    "        for j in range(cols_matrix2):\n",
    "            for k in range(cols_matrix1):\n",
    "                result_matrix[i][j] += matrix1[i][k] * matrix2[k][j]\n",
    "\n",
    "    return result_matrix\n",
    "\n",
    "# Example square matrix (3x3)\n",
    "matrix = [\n",
    "    [2, 11, 7],\n",
    "    [5, 2, 9],\n",
    "    [8, 3, 10]\n",
    "]\n",
    "\n",
    "# Multiply the matrix by itself\n",
    "result = multiply_matrices(matrix, matrix)\n",
    "\n",
    "# Print the resulting matrix\n",
    "print(\"Resulting Matrix after multiplication:\")\n",
    "for row in result:\n",
    "    print(row)"
   ]
  }
 ],
 "metadata": {
  "kernelspec": {
   "display_name": "Python 3 (ipykernel)",
   "language": "python",
   "name": "python3"
  },
  "language_info": {
   "codemirror_mode": {
    "name": "ipython",
    "version": 3
   },
   "file_extension": ".py",
   "mimetype": "text/x-python",
   "name": "python",
   "nbconvert_exporter": "python",
   "pygments_lexer": "ipython3",
   "version": "3.11.5"
  }
 },
 "nbformat": 4,
 "nbformat_minor": 5
}
