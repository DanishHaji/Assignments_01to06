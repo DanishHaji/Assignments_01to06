{
 "cells": [
  {
   "cell_type": "markdown",
   "id": "49b2811f-4d74-4e60-8285-d9bade047958",
   "metadata": {},
   "source": [
    "1. Write a program that accepts a string from user. Your program should count and display number of \n",
    "vowels in that string. \n"
   ]
  },
  {
   "cell_type": "code",
   "execution_count": 11,
   "id": "78d3c412-6cd3-43bb-8987-8a5f6318d83e",
   "metadata": {},
   "outputs": [
    {
     "name": "stdout",
     "output_type": "stream",
     "text": [
      "14\n"
     ]
    }
   ],
   "source": [
    "string = \"Hi, My name is Danish. Today I learn some Python.\"\n",
    "vowels = \"aeiouAEIOU\"\n",
    "\n",
    "count = sum(string.count(vowel) for vowel in vowels)\n",
    "print(count)"
   ]
  },
  {
   "cell_type": "markdown",
   "id": "6b158b18-3b07-497b-b2cd-d47a31165878",
   "metadata": {},
   "source": [
    "2. Write a program that reads a string from keyboard and display: \n",
    "* The number of uppercase letters in the string \n",
    "* The number of lowercase letters in the string \n",
    "* The number of digits in the string \n",
    "* The number of whitespace characters in the string \n"
   ]
  },
  {
   "cell_type": "code",
   "execution_count": 14,
   "id": "daa572fb-9cee-43f4-a013-d6b468b12579",
   "metadata": {},
   "outputs": [
    {
     "name": "stdin",
     "output_type": "stream",
     "text": [
      "Enter the String:  Saylani gives very comfortable Study Room for Students, my class held on sunday at 9am to 12pm.\n"
     ]
    },
    {
     "name": "stdout",
     "output_type": "stream",
     "text": [
      "Uppercase letters: 4\n",
      "Lowercase letters: 70\n",
      "Digits: 3\n",
      "WhiteSpace: 16\n"
     ]
    }
   ],
   "source": [
    "user_input = input(\"Enter the String: \")\n",
    "\n",
    "uppercase = sum(1 for char in user_input if char.isupper())\n",
    "lowercase = sum(1 for char in user_input if char.islower())\n",
    "digits = sum(1 for char in user_input if char.isdigit())\n",
    "whitespace = sum(1 for char in user_input if char.isspace())\n",
    "\n",
    "print(\"Uppercase letters:\", uppercase)\n",
    "print(\"Lowercase letters:\", lowercase)\n",
    "print(\"Digits:\", digits)\n",
    "print(\"WhiteSpace:\", whitespace)"
   ]
  },
  {
   "cell_type": "markdown",
   "id": "9aa65223-070f-4c8b-b9b1-650e2c568963",
   "metadata": {},
   "source": [
    "3. Write a Python program that accepts a string from user. Your program should create and display a \n",
    "new string where the first and last characters have been exchanged.\n",
    "For example if the user enters the string 'HELLO' then new string would be 'OELLH' "
   ]
  },
  {
   "cell_type": "code",
   "execution_count": 18,
   "id": "88d16444-cf63-4a88-b17f-eb6f0331b67f",
   "metadata": {},
   "outputs": [
    {
     "name": "stdin",
     "output_type": "stream",
     "text": [
      "Enter a String:  Saylani\n"
     ]
    },
    {
     "name": "stdout",
     "output_type": "stream",
     "text": [
      "New String: iaylanS\n"
     ]
    }
   ],
   "source": [
    "def first_last_exchange(input_string):\n",
    "    if len(input_string) < 2:\n",
    "        return input_string\n",
    "    return input_string[-1] + input_string[1:-1] + input_string[0]\n",
    "\n",
    "user_input = input(\"Enter a String: \")\n",
    "new_string = first_last_exchange(user_input)\n",
    "print(\"New String:\", new_string)"
   ]
  },
  {
   "cell_type": "markdown",
   "id": "93dc6171-b652-4bae-8a36-02a385fddb91",
   "metadata": {},
   "source": [
    "4. Write a Python program that accepts a string from user. Your program should create a new string in \n",
    "reverse of first string and display it.\n",
    "For example if the user enters the string 'EXAM' then new string would be 'MAXE"
   ]
  },
  {
   "cell_type": "code",
   "execution_count": 20,
   "id": "e82ece4b-b345-4011-9c88-e8587bbc70bc",
   "metadata": {},
   "outputs": [
    {
     "name": "stdin",
     "output_type": "stream",
     "text": [
      "Enter a String:  Saylani\n"
     ]
    },
    {
     "name": "stdout",
     "output_type": "stream",
     "text": [
      "Reversed String: inalyaS\n"
     ]
    }
   ],
   "source": [
    "def reverse_string(input_string):\n",
    "    return input_string[::-1]\n",
    "user_input = input(\"Enter a String: \")\n",
    "reversed_string = reverse_string(user_input)\n",
    "print(\"Reversed String:\", reversed_string)"
   ]
  },
  {
   "cell_type": "markdown",
   "id": "9daeca1a-7384-4eb5-8753-f1fee24598f5",
   "metadata": {},
   "source": [
    "5. Write a Python program that accepts a string from user. Your program should create a new string by \n",
    "shifting one position to left.\n",
    "For example if the user enters the string 'examination 2021' then new string would be 'xamination \n",
    "2021e' "
   ]
  },
  {
   "cell_type": "code",
   "execution_count": 22,
   "id": "9a0e2dbc-60db-47f5-92aa-f39f92657e22",
   "metadata": {},
   "outputs": [
    {
     "name": "stdin",
     "output_type": "stream",
     "text": [
      "Enter a string:  Saylani 2024\n"
     ]
    },
    {
     "name": "stdout",
     "output_type": "stream",
     "text": [
      "Shifted Left: aylani 2024S\n"
     ]
    }
   ],
   "source": [
    "def shift_left(input_string):\n",
    "    if len(input_string) < 2:\n",
    "        return input_string\n",
    "    return input_string[1:] + input_string[0]\n",
    "user_input = input(\"Enter a string: \")\n",
    "shifted_left = shift_left(user_input)\n",
    "print(\"Shifted Left:\", shifted_left)"
   ]
  },
  {
   "cell_type": "markdown",
   "id": "431f51d0-ee99-44d9-8bd2-d4404b42124e",
   "metadata": {},
   "source": [
    " 6. Write a program that asks the user to input his name and print its initials. Assuming that the user \n",
    "always types first name, middle name and last name and does not include any unnecessary spaces. \n",
    "For example, if the user enters Ajay Kumar Garg the program should display A. K. G. \n",
    "Note:Don't use split() method"
   ]
  },
  {
   "cell_type": "code",
   "execution_count": 1,
   "id": "9ecad4d1-c9ec-469c-9bcf-f1b26e88f4a5",
   "metadata": {},
   "outputs": [
    {
     "name": "stdin",
     "output_type": "stream",
     "text": [
      "Enter you full name (first, middle and last):  Danish Muhammad Haji\n"
     ]
    },
    {
     "name": "stdout",
     "output_type": "stream",
     "text": [
      "Your initials are: D. M. H.\n"
     ]
    }
   ],
   "source": [
    "user_name = input(\"Enter you full name (first, middle and last): \")\n",
    "initials = user_name[0].upper() + '. '\n",
    "for i in range(len(user_name)):\n",
    "    if user_name[i] == ' ':\n",
    "         initials += user_name[i + 1].upper() + '. '\n",
    "print(\"Your initials are:\", initials.strip())"
   ]
  },
  {
   "cell_type": "markdown",
   "id": "2372ee98-7c24-4c94-a82c-5cd18f66c3cb",
   "metadata": {},
   "source": [
    "7. A palindrome is a string that reads the same backward as forward. For example, the words dad, \n",
    "madam and radar are all palindromes. Write a programs that determines whether the string is a \n",
    "palindrome. \n",
    "Note: do not use reverse() method"
   ]
  },
  {
   "cell_type": "code",
   "execution_count": 5,
   "id": "0ac8ae1d-a173-4d42-97ee-423f63d2a2ee",
   "metadata": {},
   "outputs": [
    {
     "name": "stdin",
     "output_type": "stream",
     "text": [
      "Enter a String:  danish\n"
     ]
    },
    {
     "name": "stdout",
     "output_type": "stream",
     "text": [
      "The string is not a palindrome\n"
     ]
    }
   ],
   "source": [
    "user_input = input(\"Enter a String: \").lower()\n",
    "if user_input == user_input[::-1]:\n",
    "    print(\"The string a palindrome\")\n",
    "else:\n",
    "    print(\"The string is not a palindrome\")"
   ]
  },
  {
   "cell_type": "markdown",
   "id": "e704c1ff-8c7e-4ca6-8938-dff80d4ffceb",
   "metadata": {},
   "source": [
    "8. Write a program that display following output: \n",
    "SHIFT \n",
    "HIFTS \n",
    "IFTSH \n",
    "FTSHI \n",
    "TSHIF \n",
    "SHIFT"
   ]
  },
  {
   "cell_type": "code",
   "execution_count": 13,
   "id": "24966418-9ab9-48bf-903e-267da6d1e8f3",
   "metadata": {},
   "outputs": [
    {
     "name": "stdout",
     "output_type": "stream",
     "text": [
      "SHIFT\n",
      "HIFTS\n",
      "IFTSH\n",
      "FTSHI\n",
      "TSHIF\n"
     ]
    }
   ],
   "source": [
    "def display_pattren(word):\n",
    "    length = len(word)\n",
    "    for i in range(length):\n",
    "        print(word[i:] + word[:i])\n",
    "word = \"SHIFT\"\n",
    "display_pattren(word)"
   ]
  },
  {
   "cell_type": "markdown",
   "id": "3252ed19-03f6-4a36-b583-541468f3cebc",
   "metadata": {},
   "source": [
    "9. Write a program in python that accepts a string to setup a passwords. Your entered password must \n",
    "meet the following requirements: \n",
    "The password must be at least eight characters long. \n",
    "It must contain at least one uppercase letter. \n",
    "It must contain at least one lowercase letter. \n",
    "It must contain at least one numeric digit. \n",
    "Your program should should perform this validation."
   ]
  },
  {
   "cell_type": "code",
   "execution_count": 19,
   "id": "d43e90b3-36cf-457f-8e98-3e31147a845f",
   "metadata": {},
   "outputs": [
    {
     "name": "stdin",
     "output_type": "stream",
     "text": [
      "Enter you password:  Kamran12\n"
     ]
    },
    {
     "name": "stdout",
     "output_type": "stream",
     "text": [
      "Password is Valid\n"
     ]
    }
   ],
   "source": [
    "import re\n",
    "def validate_password(password):\n",
    "    if (len(password) >= 8 and \n",
    "        re.search(r'[A-Z]', password) and\n",
    "        re.search(r'[a-z]', password) and\n",
    "        re.search(r'\\d', password)):\n",
    "        return \"Password is Valid\"\n",
    "    return \"Password must be at least 8 characters long, contain an uppercase letter, a lowercase letter, and a digit.\"\n",
    "user_password = input(\"Enter you password: \")\n",
    "print(validate_password(user_password))"
   ]
  }
 ],
 "metadata": {
  "kernelspec": {
   "display_name": "Python 3 (ipykernel)",
   "language": "python",
   "name": "python3"
  },
  "language_info": {
   "codemirror_mode": {
    "name": "ipython",
    "version": 3
   },
   "file_extension": ".py",
   "mimetype": "text/x-python",
   "name": "python",
   "nbconvert_exporter": "python",
   "pygments_lexer": "ipython3",
   "version": "3.11.5"
  }
 },
 "nbformat": 4,
 "nbformat_minor": 5
}
