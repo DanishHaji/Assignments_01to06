{
 "cells": [
  {
   "cell_type": "markdown",
   "id": "5547096e",
   "metadata": {},
   "source": [
    "### 1. Write a Python program to create a class representing a Circle. Include methods to calculate its area and perimeter.\n"
   ]
  },
  {
   "cell_type": "code",
   "execution_count": 14,
   "id": "321b241a",
   "metadata": {},
   "outputs": [],
   "source": [
    "import math\n",
    "\n",
    "class Circle:\n",
    "    def __init__(self,radius):\n",
    "        self.radius = radius\n",
    "        \n",
    "    def area(self):\n",
    "        return math.pi * (self.radius ** 2)\n",
    "    \n",
    "    def perimeter(self):\n",
    "        return 2 * math.pi * self.radius"
   ]
  },
  {
   "cell_type": "code",
   "execution_count": 15,
   "id": "135fd431",
   "metadata": {},
   "outputs": [
    {
     "name": "stdout",
     "output_type": "stream",
     "text": [
      "Area: 113.09733552923255\n",
      "Perimeter: 37.69911184307752\n"
     ]
    }
   ],
   "source": [
    "circle = Circle(6)\n",
    "print(\"Area:\", circle.area())\n",
    "print(\"Perimeter:\", circle.perimeter())"
   ]
  },
  {
   "cell_type": "markdown",
   "id": "8558d8b8",
   "metadata": {},
   "source": [
    "### 2. Write a Python program to create a person class. Include attributes like name, country and date of birth. Implement a method to determine the person's age."
   ]
  },
  {
   "cell_type": "code",
   "execution_count": 16,
   "id": "624ee3b5",
   "metadata": {},
   "outputs": [],
   "source": [
    "from datetime import datetime\n",
    "\n",
    "class Person:\n",
    "    def __init__(self,name,country,date_of_birth):\n",
    "        self.name = name\n",
    "        self.country = country\n",
    "        self.date_of_birth = date_of_birth\n",
    "        \n",
    "    def calculate_Age(self):\n",
    "        birth_date = datetime.strptime(self.date_of_birth, \"%Y-%m-%d\")\n",
    "        today = datetime.today()\n",
    "        age = today.year - birth_date.year\n",
    "        \n",
    "        if (today.month, today.day) < (birth_date.month, birth_date.day):\n",
    "            age -= 1\n",
    "            \n",
    "        return age"
   ]
  },
  {
   "cell_type": "code",
   "execution_count": 17,
   "id": "f277c868",
   "metadata": {},
   "outputs": [
    {
     "name": "stdout",
     "output_type": "stream",
     "text": [
      "Name: Danish\n",
      "Country: Pakistan\n",
      "Date of Birth: 1994-02-16\n",
      "Age: 30\n"
     ]
    }
   ],
   "source": [
    "person = Person(\"Danish\", \"Pakistan\", \"1994-02-16\")\n",
    "print(\"Name:\", person.name)\n",
    "print(\"Country:\", person.country)\n",
    "print(\"Date of Birth:\", person.date_of_birth)\n",
    "print(\"Age:\", person.calculate_Age())"
   ]
  },
  {
   "cell_type": "markdown",
   "id": "1200d133",
   "metadata": {},
   "source": [
    "### 3. Write a Python program to create a calculator class. Include methods for basic arithmetic operations."
   ]
  },
  {
   "cell_type": "code",
   "execution_count": 18,
   "id": "8c0b2eac",
   "metadata": {},
   "outputs": [],
   "source": [
    "class Calculator:\n",
    "    def __init__(self):\n",
    "        print(\"Calculator is ready for use!\")\n",
    "\n",
    "    def add(self, a, b):\n",
    "        result = a + b\n",
    "        print(f\"Adding {a} + {b} = {result}\")\n",
    "        return result\n",
    "\n",
    "    def subtract(self, a, b):\n",
    "        result = a - b\n",
    "        print(f\"Subtracting {a} - {b} = {result}\")\n",
    "        return result\n",
    "\n",
    "    def multiply(self, a, b):\n",
    "        result = a * b\n",
    "        print(f\"Multiplying {a} * {b} = {result}\")\n",
    "        return result\n",
    "\n",
    "    def divide(self, a, b):\n",
    "        try:\n",
    "            result = a / b\n",
    "            print(f\"Dividing {a} / {b} = {result}\")\n",
    "            return result\n",
    "        except ZeroDivisionError:\n",
    "            print(\"Error: Division by zero is undefined.\")\n",
    "            return None\n",
    "\n",
    "    def __str__(self):\n",
    "        return \"This is a basic calculator for arithmetic operations.\""
   ]
  },
  {
   "cell_type": "code",
   "execution_count": 19,
   "id": "7758cbb8",
   "metadata": {},
   "outputs": [
    {
     "name": "stdout",
     "output_type": "stream",
     "text": [
      "Calculator is ready for use!\n",
      "Adding 10 + 5 = 15\n",
      "Subtracting 10 - 5 = 5\n",
      "Multiplying 10 * 5 = 50\n",
      "Dividing 10 / 5 = 2.0\n",
      "Error: Division by zero is undefined.\n",
      "This is a basic calculator for arithmetic operations.\n"
     ]
    }
   ],
   "source": [
    "calc = Calculator()\n",
    "calc.add(10, 5)\n",
    "calc.subtract(10, 5)\n",
    "calc.multiply(10, 5)\n",
    "calc.divide(10, 5)\n",
    "calc.divide(10, 0)\n",
    "print(calc)"
   ]
  },
  {
   "cell_type": "code",
   "execution_count": null,
   "id": "0c6c4f68",
   "metadata": {},
   "outputs": [],
   "source": []
  }
 ],
 "metadata": {
  "kernelspec": {
   "display_name": "Python 3 (ipykernel)",
   "language": "python",
   "name": "python3"
  },
  "language_info": {
   "codemirror_mode": {
    "name": "ipython",
    "version": 3
   },
   "file_extension": ".py",
   "mimetype": "text/x-python",
   "name": "python",
   "nbconvert_exporter": "python",
   "pygments_lexer": "ipython3",
   "version": "3.11.5"
  }
 },
 "nbformat": 4,
 "nbformat_minor": 5
}
